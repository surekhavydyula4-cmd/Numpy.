{
  "nbformat": 4,
  "nbformat_minor": 0,
  "metadata": {
    "colab": {
      "provenance": [],
      "authorship_tag": "ABX9TyPDG66FfhIGz+fYP4hY640V",
      "include_colab_link": true
    },
    "kernelspec": {
      "name": "python3",
      "display_name": "Python 3"
    },
    "language_info": {
      "name": "python"
    }
  },
  "cells": [
    {
      "cell_type": "markdown",
      "metadata": {
        "id": "view-in-github",
        "colab_type": "text"
      },
      "source": [
        "<a href=\"https://colab.research.google.com/github/surekhavydyula4-cmd/Numpy./blob/main/Numpy_methods.ipynb\" target=\"_parent\"><img src=\"https://colab.research.google.com/assets/colab-badge.svg\" alt=\"Open In Colab\"/></a>"
      ]
    },
    {
      "cell_type": "code",
      "execution_count": 3,
      "metadata": {
        "colab": {
          "base_uri": "https://localhost:8080/"
        },
        "id": "QPjfeFwl8_uC",
        "outputId": "0e9206d1-ae94-4307-ad70-b6d7d3b4c00c"
      },
      "outputs": [
        {
          "output_type": "stream",
          "name": "stdout",
          "text": [
            "2\n"
          ]
        }
      ],
      "source": [
        "#min()\n",
        "import numpy as np\n",
        "a=np.array([4,6,3,2])\n",
        "print(a.min())\n"
      ]
    },
    {
      "cell_type": "code",
      "source": [
        "#max()\n",
        "import numpy as np\n",
        "a=np.array([4,6,3,2])\n",
        "print(a.max())"
      ],
      "metadata": {
        "colab": {
          "base_uri": "https://localhost:8080/"
        },
        "id": "1GFNqgNY32Sg",
        "outputId": "7f0f0d2b-004e-482c-9d58-331940780307"
      },
      "execution_count": 4,
      "outputs": [
        {
          "output_type": "stream",
          "name": "stdout",
          "text": [
            "6\n"
          ]
        }
      ]
    },
    {
      "cell_type": "code",
      "source": [
        "#sum()\n",
        "import numpy as np\n",
        "a=np.array([4,6,3,2])\n",
        "print(a.sum())"
      ],
      "metadata": {
        "colab": {
          "base_uri": "https://localhost:8080/"
        },
        "id": "U4crtwVk4Cpk",
        "outputId": "e3081230-ff2c-47d1-9317-bdf9f6fc1c53"
      },
      "execution_count": 5,
      "outputs": [
        {
          "output_type": "stream",
          "name": "stdout",
          "text": [
            "15\n"
          ]
        }
      ]
    },
    {
      "cell_type": "code",
      "source": [
        "#mean()\n",
        "import numpy as np\n",
        "a=np.array([4,6,3,2])\n",
        "print(a.mean())"
      ],
      "metadata": {
        "colab": {
          "base_uri": "https://localhost:8080/"
        },
        "id": "Nr-ER0Gx4IdM",
        "outputId": "b21426b9-cea7-4f0c-e73b-ac63f9dc5ece"
      },
      "execution_count": 6,
      "outputs": [
        {
          "output_type": "stream",
          "name": "stdout",
          "text": [
            "3.75\n"
          ]
        }
      ]
    },
    {
      "cell_type": "code",
      "source": [
        "#std\n",
        "import numpy as np\n",
        "a=np.array([4,6,3,2])\n",
        "print(a.std())"
      ],
      "metadata": {
        "colab": {
          "base_uri": "https://localhost:8080/"
        },
        "id": "1gl2AODi4NhF",
        "outputId": "25ca4cca-b33f-4111-ab62-bb94e420dad0"
      },
      "execution_count": 8,
      "outputs": [
        {
          "output_type": "stream",
          "name": "stdout",
          "text": [
            "1.479019945774904\n"
          ]
        }
      ]
    },
    {
      "cell_type": "code",
      "source": [
        "# reshape()\n",
        "import numpy as np\n",
        "a=[[1,2,3],[4,5,6]]\n",
        "arr=np.array(a)\n",
        "print(arr.reshape(3,2))\n",
        "print(arr.reshape(1,2)) #error"
      ],
      "metadata": {
        "id": "Sk6cVjbA3dYz"
      },
      "execution_count": null,
      "outputs": []
    },
    {
      "cell_type": "code",
      "source": [
        "# transpose()\n",
        "import numpy as np\n",
        "a=[[1,2,3],[4,5,6]]\n",
        "ar=np.array(a)\n",
        "print(ar.transpose())"
      ],
      "metadata": {
        "colab": {
          "base_uri": "https://localhost:8080/"
        },
        "id": "MEq3a215G5Ri",
        "outputId": "c6773092-2f8d-4e16-9bdf-675a751f678c"
      },
      "execution_count": null,
      "outputs": [
        {
          "output_type": "stream",
          "name": "stdout",
          "text": [
            "[[1 4]\n",
            " [2 5]\n",
            " [3 6]]\n"
          ]
        }
      ]
    },
    {
      "cell_type": "code",
      "source": [
        "#flatten()\n",
        "import numpy as np\n",
        "a=np.array([[1,2,3],[4,5,6]])\n",
        "print(a.flatten())"
      ],
      "metadata": {
        "id": "p2lkC_zEHMY3",
        "colab": {
          "base_uri": "https://localhost:8080/"
        },
        "outputId": "0b0b8b7a-9995-4889-d8cb-176c542aa2d3"
      },
      "execution_count": 9,
      "outputs": [
        {
          "output_type": "stream",
          "name": "stdout",
          "text": [
            "[1 2 3 4 5 6]\n"
          ]
        }
      ]
    },
    {
      "cell_type": "code",
      "source": [
        "#sort()\n",
        "import numpy as np\n",
        "a = np.array([[55, 13, 12], [99, 2, 1]])\n",
        "b = np.array(a)\n",
        "print(b)\n",
        "b.sort()\n",
        "print(b)\n"
      ],
      "metadata": {
        "colab": {
          "base_uri": "https://localhost:8080/"
        },
        "id": "H0U36bff4qS7",
        "outputId": "870a96bd-ce42-4939-b53a-c4827f0674e8"
      },
      "execution_count": 28,
      "outputs": [
        {
          "output_type": "stream",
          "name": "stdout",
          "text": [
            "[[55 13 12]\n",
            " [99  2  1]]\n",
            "[[12 13 55]\n",
            " [ 1  2 99]]\n"
          ]
        }
      ]
    },
    {
      "cell_type": "code",
      "source": [
        "# diagonal\n",
        "import numpy as np\n",
        "a=np.array([[2,3],[2,6]])\n",
        "print(a.diagonal())"
      ],
      "metadata": {
        "colab": {
          "base_uri": "https://localhost:8080/"
        },
        "id": "oryNBZcl52fl",
        "outputId": "d580b5dc-4e2c-4242-c9a0-af8ae44bf149"
      },
      "execution_count": 33,
      "outputs": [
        {
          "output_type": "stream",
          "name": "stdout",
          "text": [
            "[2 6]\n"
          ]
        }
      ]
    },
    {
      "cell_type": "code",
      "source": [
        "# trace\n",
        "import numpy as np\n",
        "a=np.array([[2,3],[2,6]])\n",
        "print(a.trace())"
      ],
      "metadata": {
        "colab": {
          "base_uri": "https://localhost:8080/"
        },
        "id": "_ZVrRw6J6bXC",
        "outputId": "7f9e2365-afa1-44bd-f642-02fc6c15e0ae"
      },
      "execution_count": 34,
      "outputs": [
        {
          "output_type": "stream",
          "name": "stdout",
          "text": [
            "8\n"
          ]
        }
      ]
    },
    {
      "cell_type": "code",
      "source": [
        "#addition of two arrays\n",
        "import numpy as np\n",
        "a=np.array([[3,2,1],[2,1,4]])\n",
        "b=np.array([[5,10,4],[10,25,2]])\n",
        "print(np.add(a,b))"
      ],
      "metadata": {
        "colab": {
          "base_uri": "https://localhost:8080/"
        },
        "id": "Uwqw8mPJ6lR0",
        "outputId": "e10c6775-3f19-429f-9484-514eafeea664"
      },
      "execution_count": 35,
      "outputs": [
        {
          "output_type": "stream",
          "name": "stdout",
          "text": [
            "[[ 8 12  5]\n",
            " [12 26  6]]\n"
          ]
        }
      ]
    },
    {
      "cell_type": "code",
      "source": [
        "#subtraction of two arrays\n",
        "import numpy as np\n",
        "a=np.array([[3,2,1],[2,1,4]])\n",
        "b=np.array([[5,10,4],[10,25,2]])\n",
        "print(np.subtract(a,b))"
      ],
      "metadata": {
        "colab": {
          "base_uri": "https://localhost:8080/"
        },
        "id": "h-kdlFe77XZ_",
        "outputId": "90b0c4ae-0155-4e25-d867-3c0fb3ba5ab4"
      },
      "execution_count": 36,
      "outputs": [
        {
          "output_type": "stream",
          "name": "stdout",
          "text": [
            "[[ -2  -8  -3]\n",
            " [ -8 -24   2]]\n"
          ]
        }
      ]
    },
    {
      "cell_type": "code",
      "source": [
        "#multipliaction of two arrays\n",
        "import numpy as np\n",
        "a=np.array([[3,2,1],[2,1,4]])\n",
        "b=np.array([[5,10,4],[10,25,2]])\n",
        "print(np.multiply(a,b))"
      ],
      "metadata": {
        "colab": {
          "base_uri": "https://localhost:8080/"
        },
        "id": "5aAUJSTA7cLa",
        "outputId": "3f0b82a3-2ba4-49e3-89ab-c1e3e82c441c"
      },
      "execution_count": 39,
      "outputs": [
        {
          "output_type": "stream",
          "name": "stdout",
          "text": [
            "[[15 20  4]\n",
            " [20 25  8]]\n"
          ]
        }
      ]
    },
    {
      "cell_type": "code",
      "source": [
        "#division of two arrays\n",
        "import numpy as np\n",
        "a=np.array([[3,2,1],[2,1,4]])\n",
        "b=np.array([[5,10,4],[10,25,2]])\n",
        "print(np.divide(a,b))"
      ],
      "metadata": {
        "colab": {
          "base_uri": "https://localhost:8080/"
        },
        "id": "cdMygcj770D1",
        "outputId": "f496e801-6579-4a97-99ca-96944a2cff0c"
      },
      "execution_count": 40,
      "outputs": [
        {
          "output_type": "stream",
          "name": "stdout",
          "text": [
            "[[0.6  0.2  0.25]\n",
            " [0.2  0.04 2.  ]]\n"
          ]
        }
      ]
    }
  ]
}