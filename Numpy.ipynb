{
  "nbformat": 4,
  "nbformat_minor": 0,
  "metadata": {
    "colab": {
      "provenance": [],
      "authorship_tag": "ABX9TyNlLx1/A0yLJ0qmSRo0j3Cr",
      "include_colab_link": true
    },
    "kernelspec": {
      "name": "python3",
      "display_name": "Python 3"
    },
    "language_info": {
      "name": "python"
    }
  },
  "cells": [
    {
      "cell_type": "markdown",
      "metadata": {
        "id": "view-in-github",
        "colab_type": "text"
      },
      "source": [
        "<a href=\"https://colab.research.google.com/github/surekhavydyula4-cmd/Numpy./blob/main/Numpy.ipynb\" target=\"_parent\"><img src=\"https://colab.research.google.com/assets/colab-badge.svg\" alt=\"Open In Colab\"/></a>"
      ]
    },
    {
      "cell_type": "code",
      "execution_count": null,
      "metadata": {
        "colab": {
          "base_uri": "https://localhost:8080/"
        },
        "id": "0FsAx5kiy9a-",
        "outputId": "b59a5f5a-17e6-47d2-d553-32d1f9954cfc"
      },
      "outputs": [
        {
          "output_type": "stream",
          "name": "stdout",
          "text": [
            "[1 2 3]\n"
          ]
        }
      ],
      "source": [
        "# array from list\n",
        "import numpy as np\n",
        "a=[1,2,3]\n",
        "arr=np.array(a)\n",
        "print(arr)"
      ]
    },
    {
      "cell_type": "code",
      "source": [
        "# Multi dimensional array\n",
        "import numpy as np\n",
        "a=[[1,2,3],[4,5,6]]\n",
        "arr=np.array(a)\n",
        "print(a)"
      ],
      "metadata": {
        "colab": {
          "base_uri": "https://localhost:8080/"
        },
        "id": "3JAs2StRzY9Y",
        "outputId": "c7f694d7-38a2-4912-d5dc-c13d704a7742"
      },
      "execution_count": null,
      "outputs": [
        {
          "output_type": "stream",
          "name": "stdout",
          "text": [
            "[[1, 2, 3], [4, 5, 6]]\n"
          ]
        }
      ]
    },
    {
      "cell_type": "code",
      "source": [
        "# array of zeroes\n",
        "import numpy as np\n",
        "ar=np.zeros((3,2)) # by default it takes float data type\n",
        "print(ar)"
      ],
      "metadata": {
        "colab": {
          "base_uri": "https://localhost:8080/"
        },
        "id": "kWLkb255zqqH",
        "outputId": "df248c64-43c7-40df-a19c-0edb1380317a"
      },
      "execution_count": null,
      "outputs": [
        {
          "output_type": "stream",
          "name": "stdout",
          "text": [
            "[[0. 0.]\n",
            " [0. 0.]\n",
            " [0. 0.]]\n"
          ]
        }
      ]
    },
    {
      "cell_type": "code",
      "source": [
        "# array of zeroes and int data type\n",
        "import numpy as np\n",
        "ar=np.zeros((3,2),int) # covert into int data type\n",
        "print(ar)"
      ],
      "metadata": {
        "colab": {
          "base_uri": "https://localhost:8080/"
        },
        "id": "OvXpbkXq0MDC",
        "outputId": "ec05c961-6411-405b-ee38-33e9d9125461"
      },
      "execution_count": null,
      "outputs": [
        {
          "output_type": "stream",
          "name": "stdout",
          "text": [
            "[[0 0]\n",
            " [0 0]\n",
            " [0 0]]\n"
          ]
        }
      ]
    },
    {
      "cell_type": "code",
      "source": [
        "# array of ones\n",
        "import numpy as np\n",
        "ar=np.ones((2,3),int)\n",
        "print(ar)"
      ],
      "metadata": {
        "colab": {
          "base_uri": "https://localhost:8080/"
        },
        "id": "fgShAPhZ0iwZ",
        "outputId": "09683ff4-1646-46cf-8f81-ca9ed47d2497"
      },
      "execution_count": null,
      "outputs": [
        {
          "output_type": "stream",
          "name": "stdout",
          "text": [
            "[[1 1 1]\n",
            " [1 1 1]]\n"
          ]
        }
      ]
    },
    {
      "cell_type": "code",
      "source": [
        "# sequence of numbers\n",
        "import numpy as np\n",
        "ar=np.arange(0,10,4)\n",
        "print(ar)"
      ],
      "metadata": {
        "colab": {
          "base_uri": "https://localhost:8080/"
        },
        "id": "ED_vdqeX0uIL",
        "outputId": "a315f852-964f-46e4-8c21-efd9aa7e296d"
      },
      "execution_count": null,
      "outputs": [
        {
          "output_type": "stream",
          "name": "stdout",
          "text": [
            "[0 4 8]\n"
          ]
        }
      ]
    },
    {
      "cell_type": "code",
      "source": [
        "# evenly spaced numbers\n",
        "import numpy as np\n",
        "ar=np.linspace(0,10,4)\n",
        "print(ar)"
      ],
      "metadata": {
        "colab": {
          "base_uri": "https://localhost:8080/"
        },
        "id": "Ofj_JKIs1FUu",
        "outputId": "11e30067-1a33-482a-c982-6a6dbf5108f8"
      },
      "execution_count": null,
      "outputs": [
        {
          "output_type": "stream",
          "name": "stdout",
          "text": [
            "[ 0.          3.33333333  6.66666667 10.        ]\n"
          ]
        }
      ]
    },
    {
      "cell_type": "code",
      "source": [
        "# fill specific number\n",
        "import numpy as np\n",
        "ar=np.full((3,2),3)\n",
        "print(ar)"
      ],
      "metadata": {
        "id": "yBQ8Ha-A1cBQ",
        "colab": {
          "base_uri": "https://localhost:8080/"
        },
        "outputId": "41233213-00e2-4246-d773-ad54e56f167b"
      },
      "execution_count": null,
      "outputs": [
        {
          "output_type": "stream",
          "name": "stdout",
          "text": [
            "[[3 3]\n",
            " [3 3]\n",
            " [3 3]]\n"
          ]
        }
      ]
    },
    {
      "cell_type": "code",
      "source": [
        "# Daigonal matrix\n",
        "import numpy as np\n",
        "ar=np.eye(3,2)\n",
        "print(ar)"
      ],
      "metadata": {
        "colab": {
          "base_uri": "https://localhost:8080/"
        },
        "id": "tJjm1voW2ktA",
        "outputId": "6fc68ace-d4c4-4d25-921c-174d59d6464b"
      },
      "execution_count": null,
      "outputs": [
        {
          "output_type": "stream",
          "name": "stdout",
          "text": [
            "[[1. 0.]\n",
            " [0. 1.]\n",
            " [0. 0.]]\n"
          ]
        }
      ]
    },
    {
      "cell_type": "code",
      "source": [
        "# random numbers array\n",
        "import numpy as np\n",
        "import random\n",
        "a=np.random.randint(1,10,(2,3))\n",
        "print(a)"
      ],
      "metadata": {
        "colab": {
          "base_uri": "https://localhost:8080/"
        },
        "id": "Qv84GTMQEw7R",
        "outputId": "c54b3e32-34e1-4c49-a2cc-1225f0040833"
      },
      "execution_count": null,
      "outputs": [
        {
          "output_type": "stream",
          "name": "stdout",
          "text": [
            "[[5 5 4]\n",
            " [3 9 3]]\n"
          ]
        }
      ]
    },
    {
      "cell_type": "code",
      "source": [
        "#indexing from 1D array\n",
        "import numpy as np\n",
        "a=[1,2,3,4,5]\n",
        "ar=np.array(a)\n",
        "print(ar)\n",
        "print(ar[0])\n",
        "print(ar[3])\n",
        "print(ar[-3]) # backward index\n"
      ],
      "metadata": {
        "colab": {
          "base_uri": "https://localhost:8080/"
        },
        "id": "8JOhNfbQ9qRB",
        "outputId": "7cfdd497-d8f2-4b60-c267-6bb0ce761fc8"
      },
      "execution_count": null,
      "outputs": [
        {
          "output_type": "stream",
          "name": "stdout",
          "text": [
            "[1 2 3 4 5]\n",
            "1\n",
            "4\n",
            "3\n"
          ]
        }
      ]
    },
    {
      "cell_type": "code",
      "source": [
        "# indexing from 2D array\n",
        "import numpy as np\n",
        "a=[[1,2,3],[4,5,6]]\n",
        "ar=np.array(a)\n",
        "print(ar[0])\n",
        "print(ar[1])\n",
        "print(ar[0,1])\n",
        "print(ar[1,1])\n",
        "print(ar[1,2])\n",
        "print(ar[-1,0])  # backward index\n",
        "print(ar[-2,-1])"
      ],
      "metadata": {
        "colab": {
          "base_uri": "https://localhost:8080/"
        },
        "id": "HsRYtnON98bb",
        "outputId": "d95d23d2-aca6-47cc-d26b-c2ec8e23609f"
      },
      "execution_count": null,
      "outputs": [
        {
          "output_type": "stream",
          "name": "stdout",
          "text": [
            "[1 2 3]\n",
            "[4 5 6]\n",
            "2\n",
            "5\n",
            "6\n",
            "4\n",
            "3\n"
          ]
        }
      ]
    },
    {
      "cell_type": "code",
      "source": [
        "# fancy indexing\n",
        "import numpy as np\n",
        "a=[1,2,3]\n",
        "ar=np.array(a)\n",
        "print(ar(0,2))"
      ],
      "metadata": {
        "colab": {
          "base_uri": "https://localhost:8080/",
          "height": 176
        },
        "id": "iAPxeKlPHb-R",
        "outputId": "13ca089a-c7b9-49c2-c52e-b6edbd878af3"
      },
      "execution_count": null,
      "outputs": [
        {
          "output_type": "error",
          "ename": "TypeError",
          "evalue": "'numpy.ndarray' object is not callable",
          "traceback": [
            "\u001b[0;31m---------------------------------------------------------------------------\u001b[0m",
            "\u001b[0;31mTypeError\u001b[0m                                 Traceback (most recent call last)",
            "\u001b[0;32m/tmp/ipython-input-1079148670.py\u001b[0m in \u001b[0;36m<cell line: 0>\u001b[0;34m()\u001b[0m\n\u001b[1;32m      3\u001b[0m \u001b[0ma\u001b[0m\u001b[0;34m=\u001b[0m\u001b[0;34m[\u001b[0m\u001b[0;36m1\u001b[0m\u001b[0;34m,\u001b[0m\u001b[0;36m2\u001b[0m\u001b[0;34m,\u001b[0m\u001b[0;36m3\u001b[0m\u001b[0;34m]\u001b[0m\u001b[0;34m\u001b[0m\u001b[0;34m\u001b[0m\u001b[0m\n\u001b[1;32m      4\u001b[0m \u001b[0mar\u001b[0m\u001b[0;34m=\u001b[0m\u001b[0mnp\u001b[0m\u001b[0;34m.\u001b[0m\u001b[0marray\u001b[0m\u001b[0;34m(\u001b[0m\u001b[0ma\u001b[0m\u001b[0;34m)\u001b[0m\u001b[0;34m\u001b[0m\u001b[0;34m\u001b[0m\u001b[0m\n\u001b[0;32m----> 5\u001b[0;31m \u001b[0mprint\u001b[0m\u001b[0;34m(\u001b[0m\u001b[0mar\u001b[0m\u001b[0;34m(\u001b[0m\u001b[0;36m0\u001b[0m\u001b[0;34m,\u001b[0m\u001b[0;36m2\u001b[0m\u001b[0;34m)\u001b[0m\u001b[0;34m)\u001b[0m\u001b[0;34m\u001b[0m\u001b[0;34m\u001b[0m\u001b[0m\n\u001b[0m",
            "\u001b[0;31mTypeError\u001b[0m: 'numpy.ndarray' object is not callable"
          ]
        }
      ]
    },
    {
      "cell_type": "code",
      "source": [
        "# slicing from 1D array\n",
        "import numpy as np\n",
        "a=[1,2,3,4,5,6]\n",
        "arr=np.array(a)\n",
        "print(arr)\n",
        "print(arr[0:3])\n",
        "print(arr[1:])\n",
        "print(arr[:])\n",
        "print(arr[:2])\n",
        "print(arr[-1:3:-2])\n",
        "print(arr[-1:-4:-1])"
      ],
      "metadata": {
        "colab": {
          "base_uri": "https://localhost:8080/"
        },
        "id": "qd7F4f7q-u0k",
        "outputId": "3461807d-5b75-4836-d404-ad36541af25a"
      },
      "execution_count": null,
      "outputs": [
        {
          "output_type": "stream",
          "name": "stdout",
          "text": [
            "[1 2 3 4 5 6]\n",
            "[1 2 3]\n",
            "[2 3 4 5 6]\n",
            "[1 2 3 4 5 6]\n",
            "[1 2]\n",
            "[6]\n",
            "[6 5 4]\n"
          ]
        }
      ]
    },
    {
      "cell_type": "code",
      "source": [
        "# slicing from 2D array\n",
        "import numpy as np\n",
        "a=[[1,2,3],[4,5,6]]\n",
        "ar=np.array(a)\n",
        "print(ar[:])\n",
        "print(ar[0:1])\n",
        "print(ar[0:2,:])\n",
        "print(ar[1,:])\n",
        "print(ar[1,0:2])"
      ],
      "metadata": {
        "colab": {
          "base_uri": "https://localhost:8080/"
        },
        "id": "kBUWkbjRAd9f",
        "outputId": "62d496bc-2e0f-44a3-80e3-9e875ff3dc6c"
      },
      "execution_count": null,
      "outputs": [
        {
          "output_type": "stream",
          "name": "stdout",
          "text": [
            "[[1 2 3]\n",
            " [4 5 6]]\n",
            "[[1 2 3]]\n",
            "[[1 2 3]\n",
            " [4 5 6]]\n",
            "[4 5 6]\n",
            "[4 5]\n"
          ]
        }
      ]
    }
  ]
}