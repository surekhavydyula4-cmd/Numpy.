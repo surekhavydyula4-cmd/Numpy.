{
  "nbformat": 4,
  "nbformat_minor": 0,
  "metadata": {
    "colab": {
      "provenance": [],
      "authorship_tag": "ABX9TyOTs6gTfMeKiljk9iS6uUtv",
      "include_colab_link": true
    },
    "kernelspec": {
      "name": "python3",
      "display_name": "Python 3"
    },
    "language_info": {
      "name": "python"
    }
  },
  "cells": [
    {
      "cell_type": "markdown",
      "metadata": {
        "id": "view-in-github",
        "colab_type": "text"
      },
      "source": [
        "<a href=\"https://colab.research.google.com/github/surekhavydyula4-cmd/Numpy./blob/main/Numpy_attributes.ipynb\" target=\"_parent\"><img src=\"https://colab.research.google.com/assets/colab-badge.svg\" alt=\"Open In Colab\"/></a>"
      ]
    },
    {
      "cell_type": "code",
      "execution_count": null,
      "metadata": {
        "colab": {
          "base_uri": "https://localhost:8080/"
        },
        "id": "v4SroXEK7Y-d",
        "outputId": "1e4713ac-8d9c-4662-cba0-3110d86c6c02"
      },
      "outputs": [
        {
          "output_type": "stream",
          "name": "stdout",
          "text": [
            "[[1 2 3]\n",
            " [4 5 6]]\n",
            "int64\n"
          ]
        }
      ],
      "source": [
        "# dtype\n",
        "import numpy as np\n",
        "a=[[1,2,3],[4,5,6]]\n",
        "ar=np.array(a)\n",
        "print(ar)\n",
        "print(ar.dtype)"
      ]
    },
    {
      "cell_type": "code",
      "source": [
        "# ndim\n",
        "import numpy as np\n",
        "a=[[1,2,3],[4,5,6]]\n",
        "ar=np.array(a)\n",
        "print(ar)\n",
        "print(ar.ndim)\n"
      ],
      "metadata": {
        "colab": {
          "base_uri": "https://localhost:8080/"
        },
        "id": "QL45Kjsf8PR7",
        "outputId": "775f266a-113c-4d0c-8bea-abc76ca0c790"
      },
      "execution_count": null,
      "outputs": [
        {
          "output_type": "stream",
          "name": "stdout",
          "text": [
            "[[1 2 3]\n",
            " [4 5 6]]\n",
            "2\n"
          ]
        }
      ]
    },
    {
      "cell_type": "code",
      "source": [
        "# shape\n",
        "import numpy as np\n",
        "a=[[1,2,3],[4,5,6]]\n",
        "ar=np.array(a)\n",
        "print(ar)\n",
        "print(ar.shape)\n",
        "print(ar.shape[0])\n",
        "print(ar.shape[1])"
      ],
      "metadata": {
        "colab": {
          "base_uri": "https://localhost:8080/"
        },
        "id": "2IIQnZmy8abr",
        "outputId": "79586f48-397b-4613-ed9d-315c9597727e"
      },
      "execution_count": null,
      "outputs": [
        {
          "output_type": "stream",
          "name": "stdout",
          "text": [
            "[[1 2 3]\n",
            " [4 5 6]]\n",
            "(2, 3)\n",
            "2\n",
            "3\n"
          ]
        }
      ]
    },
    {
      "cell_type": "code",
      "source": [
        "# size\n",
        "import numpy as np\n",
        "a=[[1,2,3],[4,5,6]]\n",
        "ar=np.array(a)\n",
        "print(ar)\n",
        "print(ar.size)"
      ],
      "metadata": {
        "colab": {
          "base_uri": "https://localhost:8080/"
        },
        "id": "yumxz66P8u6t",
        "outputId": "5e32367d-57a0-4c9c-d9a9-10aa93c46c95"
      },
      "execution_count": null,
      "outputs": [
        {
          "output_type": "stream",
          "name": "stdout",
          "text": [
            "[[1 2 3]\n",
            " [4 5 6]]\n",
            "6\n"
          ]
        }
      ]
    },
    {
      "cell_type": "code",
      "source": [
        "# T\n",
        "import numpy as np\n",
        "a=[[1,2,3],[4,5,6]]\n",
        "ar=np.array(a)\n",
        "print(ar)\n",
        "print(ar.T)"
      ],
      "metadata": {
        "colab": {
          "base_uri": "https://localhost:8080/"
        },
        "id": "TJXvK1_lClep",
        "outputId": "4c940c53-7190-4101-f2b2-e08d7644b9cd"
      },
      "execution_count": null,
      "outputs": [
        {
          "output_type": "stream",
          "name": "stdout",
          "text": [
            "[[1 2 3]\n",
            " [4 5 6]]\n",
            "[[1 4]\n",
            " [2 5]\n",
            " [3 6]]\n"
          ]
        }
      ]
    }
  ]
}